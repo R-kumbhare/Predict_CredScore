{
 "cells": [
  {
   "cell_type": "markdown",
   "id": "d2bf2ea5",
   "metadata": {},
   "source": [
    "1 .Importing the Dataset using URL\n"
   ]
  },
  {
   "cell_type": "code",
   "execution_count": 1,
   "id": "7848c566",
   "metadata": {},
   "outputs": [
    {
     "data": {
      "text/plain": [
       "('german.data', <http.client.HTTPMessage at 0x1cd53905c70>)"
      ]
     },
     "execution_count": 1,
     "metadata": {},
     "output_type": "execute_result"
    }
   ],
   "source": [
    "#importing the Dataset\n",
    "from urllib.request import urlretrieve\n",
    "urlretrieve('http://archive.ics.uci.edu/ml/machine-learning-databases/statlog/german/german.data', 'german.data')"
   ]
  },
  {
   "cell_type": "markdown",
   "id": "a57a337f",
   "metadata": {},
   "source": [
    "2. Loading the Dataset\n"
   ]
  },
  {
   "cell_type": "code",
   "execution_count": 2,
   "id": "286873db",
   "metadata": {},
   "outputs": [],
   "source": [
    "#Saving the dataset\n",
    "import pandas as pd\n",
    "german_df = pd.read_csv('http://archive.ics.uci.edu/ml/machine-learning-databases/statlog/german/german.data', \n",
    "                        delimiter=' ',header=None)"
   ]
  },
  {
   "cell_type": "code",
   "execution_count": 3,
   "id": "c7f11b6e",
   "metadata": {},
   "outputs": [
    {
     "data": {
      "text/html": [
       "<div>\n",
       "<style scoped>\n",
       "    .dataframe tbody tr th:only-of-type {\n",
       "        vertical-align: middle;\n",
       "    }\n",
       "\n",
       "    .dataframe tbody tr th {\n",
       "        vertical-align: top;\n",
       "    }\n",
       "\n",
       "    .dataframe thead th {\n",
       "        text-align: right;\n",
       "    }\n",
       "</style>\n",
       "<table border=\"1\" class=\"dataframe\">\n",
       "  <thead>\n",
       "    <tr style=\"text-align: right;\">\n",
       "      <th></th>\n",
       "      <th>0</th>\n",
       "      <th>1</th>\n",
       "      <th>2</th>\n",
       "      <th>3</th>\n",
       "      <th>4</th>\n",
       "      <th>5</th>\n",
       "      <th>6</th>\n",
       "      <th>7</th>\n",
       "      <th>8</th>\n",
       "      <th>9</th>\n",
       "      <th>...</th>\n",
       "      <th>11</th>\n",
       "      <th>12</th>\n",
       "      <th>13</th>\n",
       "      <th>14</th>\n",
       "      <th>15</th>\n",
       "      <th>16</th>\n",
       "      <th>17</th>\n",
       "      <th>18</th>\n",
       "      <th>19</th>\n",
       "      <th>20</th>\n",
       "    </tr>\n",
       "  </thead>\n",
       "  <tbody>\n",
       "    <tr>\n",
       "      <th>0</th>\n",
       "      <td>A11</td>\n",
       "      <td>6</td>\n",
       "      <td>A34</td>\n",
       "      <td>A43</td>\n",
       "      <td>1169</td>\n",
       "      <td>A65</td>\n",
       "      <td>A75</td>\n",
       "      <td>4</td>\n",
       "      <td>A93</td>\n",
       "      <td>A101</td>\n",
       "      <td>...</td>\n",
       "      <td>A121</td>\n",
       "      <td>67</td>\n",
       "      <td>A143</td>\n",
       "      <td>A152</td>\n",
       "      <td>2</td>\n",
       "      <td>A173</td>\n",
       "      <td>1</td>\n",
       "      <td>A192</td>\n",
       "      <td>A201</td>\n",
       "      <td>1</td>\n",
       "    </tr>\n",
       "    <tr>\n",
       "      <th>1</th>\n",
       "      <td>A12</td>\n",
       "      <td>48</td>\n",
       "      <td>A32</td>\n",
       "      <td>A43</td>\n",
       "      <td>5951</td>\n",
       "      <td>A61</td>\n",
       "      <td>A73</td>\n",
       "      <td>2</td>\n",
       "      <td>A92</td>\n",
       "      <td>A101</td>\n",
       "      <td>...</td>\n",
       "      <td>A121</td>\n",
       "      <td>22</td>\n",
       "      <td>A143</td>\n",
       "      <td>A152</td>\n",
       "      <td>1</td>\n",
       "      <td>A173</td>\n",
       "      <td>1</td>\n",
       "      <td>A191</td>\n",
       "      <td>A201</td>\n",
       "      <td>2</td>\n",
       "    </tr>\n",
       "    <tr>\n",
       "      <th>2</th>\n",
       "      <td>A14</td>\n",
       "      <td>12</td>\n",
       "      <td>A34</td>\n",
       "      <td>A46</td>\n",
       "      <td>2096</td>\n",
       "      <td>A61</td>\n",
       "      <td>A74</td>\n",
       "      <td>2</td>\n",
       "      <td>A93</td>\n",
       "      <td>A101</td>\n",
       "      <td>...</td>\n",
       "      <td>A121</td>\n",
       "      <td>49</td>\n",
       "      <td>A143</td>\n",
       "      <td>A152</td>\n",
       "      <td>1</td>\n",
       "      <td>A172</td>\n",
       "      <td>2</td>\n",
       "      <td>A191</td>\n",
       "      <td>A201</td>\n",
       "      <td>1</td>\n",
       "    </tr>\n",
       "    <tr>\n",
       "      <th>3</th>\n",
       "      <td>A11</td>\n",
       "      <td>42</td>\n",
       "      <td>A32</td>\n",
       "      <td>A42</td>\n",
       "      <td>7882</td>\n",
       "      <td>A61</td>\n",
       "      <td>A74</td>\n",
       "      <td>2</td>\n",
       "      <td>A93</td>\n",
       "      <td>A103</td>\n",
       "      <td>...</td>\n",
       "      <td>A122</td>\n",
       "      <td>45</td>\n",
       "      <td>A143</td>\n",
       "      <td>A153</td>\n",
       "      <td>1</td>\n",
       "      <td>A173</td>\n",
       "      <td>2</td>\n",
       "      <td>A191</td>\n",
       "      <td>A201</td>\n",
       "      <td>1</td>\n",
       "    </tr>\n",
       "    <tr>\n",
       "      <th>4</th>\n",
       "      <td>A11</td>\n",
       "      <td>24</td>\n",
       "      <td>A33</td>\n",
       "      <td>A40</td>\n",
       "      <td>4870</td>\n",
       "      <td>A61</td>\n",
       "      <td>A73</td>\n",
       "      <td>3</td>\n",
       "      <td>A93</td>\n",
       "      <td>A101</td>\n",
       "      <td>...</td>\n",
       "      <td>A124</td>\n",
       "      <td>53</td>\n",
       "      <td>A143</td>\n",
       "      <td>A153</td>\n",
       "      <td>2</td>\n",
       "      <td>A173</td>\n",
       "      <td>2</td>\n",
       "      <td>A191</td>\n",
       "      <td>A201</td>\n",
       "      <td>2</td>\n",
       "    </tr>\n",
       "  </tbody>\n",
       "</table>\n",
       "<p>5 rows × 21 columns</p>\n",
       "</div>"
      ],
      "text/plain": [
       "    0   1    2    3     4    5    6   7    8     9   ...    11  12    13  \\\n",
       "0  A11   6  A34  A43  1169  A65  A75   4  A93  A101  ...  A121  67  A143   \n",
       "1  A12  48  A32  A43  5951  A61  A73   2  A92  A101  ...  A121  22  A143   \n",
       "2  A14  12  A34  A46  2096  A61  A74   2  A93  A101  ...  A121  49  A143   \n",
       "3  A11  42  A32  A42  7882  A61  A74   2  A93  A103  ...  A122  45  A143   \n",
       "4  A11  24  A33  A40  4870  A61  A73   3  A93  A101  ...  A124  53  A143   \n",
       "\n",
       "     14 15    16 17    18    19 20  \n",
       "0  A152  2  A173  1  A192  A201  1  \n",
       "1  A152  1  A173  1  A191  A201  2  \n",
       "2  A152  1  A172  2  A191  A201  1  \n",
       "3  A153  1  A173  2  A191  A201  1  \n",
       "4  A153  2  A173  2  A191  A201  2  \n",
       "\n",
       "[5 rows x 21 columns]"
      ]
     },
     "execution_count": 3,
     "metadata": {},
     "output_type": "execute_result"
    }
   ],
   "source": [
    "#Displaying the original dataset\n",
    "german_df.head(5)"
   ]
  },
  {
   "cell_type": "code",
   "execution_count": 5,
   "id": "6905f57c",
   "metadata": {},
   "outputs": [],
   "source": [
    "#from the document file of german, now we will name the columns\n",
    "german_df.columns=['account_bal','duration','payment_status','purpose',\n",
    "                   'credit_amount','savings_bond_value','employed_since',\n",
    "                   'intallment_rate','sex_marital','guarantor','residence_since',\n",
    "                   'most_valuable_asset','age','concurrent_credits','type_of_housing',\n",
    "                   'number_of_existcr','job','number_of_dependents','telephon',\n",
    "                   'foreign','target']\n",
    "german_df= german_df.replace(['A11','A12','A13','A14', 'A171','A172','A173','A174','A121','A122','A123','A124'],\n",
    "                  ['neg_bal','positive_bal','positive_bal','no_acc','unskilled','unskilled','skilled','highly_skilled',\n",
    "                   'none','car','life_insurance','real_estate'])\n"
   ]
  },
  {
   "cell_type": "code",
   "execution_count": 6,
   "id": "bd76e824",
   "metadata": {},
   "outputs": [
    {
     "data": {
      "text/html": [
       "<div>\n",
       "<style scoped>\n",
       "    .dataframe tbody tr th:only-of-type {\n",
       "        vertical-align: middle;\n",
       "    }\n",
       "\n",
       "    .dataframe tbody tr th {\n",
       "        vertical-align: top;\n",
       "    }\n",
       "\n",
       "    .dataframe thead th {\n",
       "        text-align: right;\n",
       "    }\n",
       "</style>\n",
       "<table border=\"1\" class=\"dataframe\">\n",
       "  <thead>\n",
       "    <tr style=\"text-align: right;\">\n",
       "      <th></th>\n",
       "      <th>account_bal</th>\n",
       "      <th>duration</th>\n",
       "      <th>payment_status</th>\n",
       "      <th>purpose</th>\n",
       "      <th>credit_amount</th>\n",
       "      <th>savings_bond_value</th>\n",
       "      <th>employed_since</th>\n",
       "      <th>intallment_rate</th>\n",
       "      <th>sex_marital</th>\n",
       "      <th>guarantor</th>\n",
       "      <th>...</th>\n",
       "      <th>most_valuable_asset</th>\n",
       "      <th>age</th>\n",
       "      <th>concurrent_credits</th>\n",
       "      <th>type_of_housing</th>\n",
       "      <th>number_of_existcr</th>\n",
       "      <th>job</th>\n",
       "      <th>number_of_dependents</th>\n",
       "      <th>telephon</th>\n",
       "      <th>foreign</th>\n",
       "      <th>target</th>\n",
       "    </tr>\n",
       "  </thead>\n",
       "  <tbody>\n",
       "    <tr>\n",
       "      <th>0</th>\n",
       "      <td>neg_bal</td>\n",
       "      <td>6</td>\n",
       "      <td>A34</td>\n",
       "      <td>A43</td>\n",
       "      <td>1169</td>\n",
       "      <td>A65</td>\n",
       "      <td>A75</td>\n",
       "      <td>4</td>\n",
       "      <td>A93</td>\n",
       "      <td>A101</td>\n",
       "      <td>...</td>\n",
       "      <td>none</td>\n",
       "      <td>67</td>\n",
       "      <td>A143</td>\n",
       "      <td>A152</td>\n",
       "      <td>2</td>\n",
       "      <td>skilled</td>\n",
       "      <td>1</td>\n",
       "      <td>A192</td>\n",
       "      <td>A201</td>\n",
       "      <td>1</td>\n",
       "    </tr>\n",
       "    <tr>\n",
       "      <th>1</th>\n",
       "      <td>positive_bal</td>\n",
       "      <td>48</td>\n",
       "      <td>A32</td>\n",
       "      <td>A43</td>\n",
       "      <td>5951</td>\n",
       "      <td>A61</td>\n",
       "      <td>A73</td>\n",
       "      <td>2</td>\n",
       "      <td>A92</td>\n",
       "      <td>A101</td>\n",
       "      <td>...</td>\n",
       "      <td>none</td>\n",
       "      <td>22</td>\n",
       "      <td>A143</td>\n",
       "      <td>A152</td>\n",
       "      <td>1</td>\n",
       "      <td>skilled</td>\n",
       "      <td>1</td>\n",
       "      <td>A191</td>\n",
       "      <td>A201</td>\n",
       "      <td>2</td>\n",
       "    </tr>\n",
       "    <tr>\n",
       "      <th>2</th>\n",
       "      <td>no_acc</td>\n",
       "      <td>12</td>\n",
       "      <td>A34</td>\n",
       "      <td>A46</td>\n",
       "      <td>2096</td>\n",
       "      <td>A61</td>\n",
       "      <td>A74</td>\n",
       "      <td>2</td>\n",
       "      <td>A93</td>\n",
       "      <td>A101</td>\n",
       "      <td>...</td>\n",
       "      <td>none</td>\n",
       "      <td>49</td>\n",
       "      <td>A143</td>\n",
       "      <td>A152</td>\n",
       "      <td>1</td>\n",
       "      <td>unskilled</td>\n",
       "      <td>2</td>\n",
       "      <td>A191</td>\n",
       "      <td>A201</td>\n",
       "      <td>1</td>\n",
       "    </tr>\n",
       "    <tr>\n",
       "      <th>3</th>\n",
       "      <td>neg_bal</td>\n",
       "      <td>42</td>\n",
       "      <td>A32</td>\n",
       "      <td>A42</td>\n",
       "      <td>7882</td>\n",
       "      <td>A61</td>\n",
       "      <td>A74</td>\n",
       "      <td>2</td>\n",
       "      <td>A93</td>\n",
       "      <td>A103</td>\n",
       "      <td>...</td>\n",
       "      <td>car</td>\n",
       "      <td>45</td>\n",
       "      <td>A143</td>\n",
       "      <td>A153</td>\n",
       "      <td>1</td>\n",
       "      <td>skilled</td>\n",
       "      <td>2</td>\n",
       "      <td>A191</td>\n",
       "      <td>A201</td>\n",
       "      <td>1</td>\n",
       "    </tr>\n",
       "    <tr>\n",
       "      <th>4</th>\n",
       "      <td>neg_bal</td>\n",
       "      <td>24</td>\n",
       "      <td>A33</td>\n",
       "      <td>A40</td>\n",
       "      <td>4870</td>\n",
       "      <td>A61</td>\n",
       "      <td>A73</td>\n",
       "      <td>3</td>\n",
       "      <td>A93</td>\n",
       "      <td>A101</td>\n",
       "      <td>...</td>\n",
       "      <td>real_estate</td>\n",
       "      <td>53</td>\n",
       "      <td>A143</td>\n",
       "      <td>A153</td>\n",
       "      <td>2</td>\n",
       "      <td>skilled</td>\n",
       "      <td>2</td>\n",
       "      <td>A191</td>\n",
       "      <td>A201</td>\n",
       "      <td>2</td>\n",
       "    </tr>\n",
       "  </tbody>\n",
       "</table>\n",
       "<p>5 rows × 21 columns</p>\n",
       "</div>"
      ],
      "text/plain": [
       "    account_bal  duration payment_status purpose  credit_amount  \\\n",
       "0       neg_bal         6            A34     A43           1169   \n",
       "1  positive_bal        48            A32     A43           5951   \n",
       "2        no_acc        12            A34     A46           2096   \n",
       "3       neg_bal        42            A32     A42           7882   \n",
       "4       neg_bal        24            A33     A40           4870   \n",
       "\n",
       "  savings_bond_value employed_since  intallment_rate sex_marital guarantor  \\\n",
       "0                A65            A75                4         A93      A101   \n",
       "1                A61            A73                2         A92      A101   \n",
       "2                A61            A74                2         A93      A101   \n",
       "3                A61            A74                2         A93      A103   \n",
       "4                A61            A73                3         A93      A101   \n",
       "\n",
       "   ...  most_valuable_asset age  concurrent_credits type_of_housing  \\\n",
       "0  ...                 none  67                A143            A152   \n",
       "1  ...                 none  22                A143            A152   \n",
       "2  ...                 none  49                A143            A152   \n",
       "3  ...                  car  45                A143            A153   \n",
       "4  ...          real_estate  53                A143            A153   \n",
       "\n",
       "  number_of_existcr        job number_of_dependents  telephon foreign target  \n",
       "0                 2    skilled                    1      A192    A201      1  \n",
       "1                 1    skilled                    1      A191    A201      2  \n",
       "2                 1  unskilled                    2      A191    A201      1  \n",
       "3                 1    skilled                    2      A191    A201      1  \n",
       "4                 2    skilled                    2      A191    A201      2  \n",
       "\n",
       "[5 rows x 21 columns]"
      ]
     },
     "execution_count": 6,
     "metadata": {},
     "output_type": "execute_result"
    }
   ],
   "source": [
    "german_df.head(5)"
   ]
  },
  {
   "cell_type": "code",
   "execution_count": 7,
   "id": "32d0da97",
   "metadata": {},
   "outputs": [
    {
     "data": {
      "text/plain": [
       "False"
      ]
     },
     "execution_count": 7,
     "metadata": {},
     "output_type": "execute_result"
    }
   ],
   "source": [
    "# checking for missing values\n",
    "german_df.isna().any().any()"
   ]
  },
  {
   "cell_type": "markdown",
   "id": "120835d7",
   "metadata": {},
   "source": [
    "3 .lets  do the analysis of data and visualize it"
   ]
  },
  {
   "cell_type": "code",
   "execution_count": 12,
   "id": "0e7c0e8b",
   "metadata": {},
   "outputs": [],
   "source": [
    "# import libraries for visualizations\n",
    "\n",
    "import seaborn as sns\n",
    "import matplotlib\n",
    "import matplotlib.pyplot as plt\n",
    "%matplotlib inline\n",
    "\n",
    "sns.set_style('darkgrid')\n",
    "matplotlib.rcParams['font.size'] = 14\n",
    "matplotlib.rcParams['figure.figsize'] = (9, 5)\n",
    "matplotlib.rcParams['figure.facecolor'] = '#00000000'"
   ]
  },
  {
   "cell_type": "markdown",
   "id": "ba41fb8e",
   "metadata": {},
   "source": [
    "lets understand the distribution"
   ]
  },
  {
   "cell_type": "code",
   "execution_count": 15,
   "id": "8f4c942d",
   "metadata": {},
   "outputs": [
    {
     "data": {
      "text/html": [
       "<div>\n",
       "<style scoped>\n",
       "    .dataframe tbody tr th:only-of-type {\n",
       "        vertical-align: middle;\n",
       "    }\n",
       "\n",
       "    .dataframe tbody tr th {\n",
       "        vertical-align: top;\n",
       "    }\n",
       "\n",
       "    .dataframe thead th {\n",
       "        text-align: right;\n",
       "    }\n",
       "</style>\n",
       "<table border=\"1\" class=\"dataframe\">\n",
       "  <thead>\n",
       "    <tr style=\"text-align: right;\">\n",
       "      <th></th>\n",
       "      <th>account_bal</th>\n",
       "      <th>duration</th>\n",
       "      <th>payment_status</th>\n",
       "      <th>purpose</th>\n",
       "      <th>credit_amount</th>\n",
       "      <th>savings_bond_value</th>\n",
       "      <th>employed_since</th>\n",
       "      <th>intallment_rate</th>\n",
       "      <th>sex_marital</th>\n",
       "      <th>guarantor</th>\n",
       "      <th>residence_since</th>\n",
       "      <th>most_valuable_asset</th>\n",
       "      <th>age</th>\n",
       "      <th>concurrent_credits</th>\n",
       "      <th>type_of_housing</th>\n",
       "      <th>number_of_existcr</th>\n",
       "      <th>job</th>\n",
       "      <th>number_of_dependents</th>\n",
       "      <th>telephon</th>\n",
       "      <th>foreign</th>\n",
       "    </tr>\n",
       "    <tr>\n",
       "      <th>target</th>\n",
       "      <th></th>\n",
       "      <th></th>\n",
       "      <th></th>\n",
       "      <th></th>\n",
       "      <th></th>\n",
       "      <th></th>\n",
       "      <th></th>\n",
       "      <th></th>\n",
       "      <th></th>\n",
       "      <th></th>\n",
       "      <th></th>\n",
       "      <th></th>\n",
       "      <th></th>\n",
       "      <th></th>\n",
       "      <th></th>\n",
       "      <th></th>\n",
       "      <th></th>\n",
       "      <th></th>\n",
       "      <th></th>\n",
       "      <th></th>\n",
       "    </tr>\n",
       "  </thead>\n",
       "  <tbody>\n",
       "    <tr>\n",
       "      <th>1</th>\n",
       "      <td>700</td>\n",
       "      <td>700</td>\n",
       "      <td>700</td>\n",
       "      <td>700</td>\n",
       "      <td>700</td>\n",
       "      <td>700</td>\n",
       "      <td>700</td>\n",
       "      <td>700</td>\n",
       "      <td>700</td>\n",
       "      <td>700</td>\n",
       "      <td>700</td>\n",
       "      <td>700</td>\n",
       "      <td>700</td>\n",
       "      <td>700</td>\n",
       "      <td>700</td>\n",
       "      <td>700</td>\n",
       "      <td>700</td>\n",
       "      <td>700</td>\n",
       "      <td>700</td>\n",
       "      <td>700</td>\n",
       "    </tr>\n",
       "    <tr>\n",
       "      <th>2</th>\n",
       "      <td>300</td>\n",
       "      <td>300</td>\n",
       "      <td>300</td>\n",
       "      <td>300</td>\n",
       "      <td>300</td>\n",
       "      <td>300</td>\n",
       "      <td>300</td>\n",
       "      <td>300</td>\n",
       "      <td>300</td>\n",
       "      <td>300</td>\n",
       "      <td>300</td>\n",
       "      <td>300</td>\n",
       "      <td>300</td>\n",
       "      <td>300</td>\n",
       "      <td>300</td>\n",
       "      <td>300</td>\n",
       "      <td>300</td>\n",
       "      <td>300</td>\n",
       "      <td>300</td>\n",
       "      <td>300</td>\n",
       "    </tr>\n",
       "  </tbody>\n",
       "</table>\n",
       "</div>"
      ],
      "text/plain": [
       "        account_bal  duration  payment_status  purpose  credit_amount  \\\n",
       "target                                                                  \n",
       "1               700       700             700      700            700   \n",
       "2               300       300             300      300            300   \n",
       "\n",
       "        savings_bond_value  employed_since  intallment_rate  sex_marital  \\\n",
       "target                                                                     \n",
       "1                      700             700              700          700   \n",
       "2                      300             300              300          300   \n",
       "\n",
       "        guarantor  residence_since  most_valuable_asset  age  \\\n",
       "target                                                         \n",
       "1             700              700                  700  700   \n",
       "2             300              300                  300  300   \n",
       "\n",
       "        concurrent_credits  type_of_housing  number_of_existcr  job  \\\n",
       "target                                                                \n",
       "1                      700              700                700  700   \n",
       "2                      300              300                300  300   \n",
       "\n",
       "        number_of_dependents  telephon  foreign  \n",
       "target                                           \n",
       "1                        700       700      700  \n",
       "2                        300       300      300  "
      ]
     },
     "execution_count": 15,
     "metadata": {},
     "output_type": "execute_result"
    }
   ],
   "source": [
    "# let us look at the target column which is 'target' to understand how the data is distributed\n",
    "german_df.groupby([\"target\"]).count()"
   ]
  },
  {
   "cell_type": "markdown",
   "id": "6e59737e",
   "metadata": {},
   "source": [
    "In above column we checked the distribution based on the target(1,2).Because according to the document file provided it is said that :\n",
    "1: Good credit score(loan can be approved)\n",
    "2: Bad credit score (Loan can not be approved)"
   ]
  },
  {
   "cell_type": "code",
   "execution_count": 140,
   "id": "db0d9f38",
   "metadata": {},
   "outputs": [
    {
     "data": {
      "text/plain": [
       "<AxesSubplot:xlabel='target', ylabel='count'>"
      ]
     },
     "execution_count": 140,
     "metadata": {},
     "output_type": "execute_result"
    },
    {
     "data": {
      "image/png": "[encoded data removed]",
      "text/plain": [
       "<Figure size 576x396 with 1 Axes>"
      ]
     },
     "metadata": {},
     "output_type": "display_data"
    }
   ],
   "source": [
    "import seaborn as sns\n",
    "sns.countplot(x='target', data=german_df) "
   ]
  },
  {
   "cell_type": "code",
   "execution_count": 16,
   "id": "5d3abfca",
   "metadata": {},
   "outputs": [
    {
     "data": {
      "text/html": [
       "<div>\n",
       "<style scoped>\n",
       "    .dataframe tbody tr th:only-of-type {\n",
       "        vertical-align: middle;\n",
       "    }\n",
       "\n",
       "    .dataframe tbody tr th {\n",
       "        vertical-align: top;\n",
       "    }\n",
       "\n",
       "    .dataframe thead th {\n",
       "        text-align: right;\n",
       "    }\n",
       "</style>\n",
       "<table border=\"1\" class=\"dataframe\">\n",
       "  <thead>\n",
       "    <tr style=\"text-align: right;\">\n",
       "      <th></th>\n",
       "      <th>credit_amount</th>\n",
       "      <th>duration</th>\n",
       "      <th>age</th>\n",
       "    </tr>\n",
       "  </thead>\n",
       "  <tbody>\n",
       "    <tr>\n",
       "      <th>count</th>\n",
       "      <td>1000.000000</td>\n",
       "      <td>1000.000000</td>\n",
       "      <td>1000.000000</td>\n",
       "    </tr>\n",
       "    <tr>\n",
       "      <th>mean</th>\n",
       "      <td>3271.258000</td>\n",
       "      <td>20.903000</td>\n",
       "      <td>35.546000</td>\n",
       "    </tr>\n",
       "    <tr>\n",
       "      <th>std</th>\n",
       "      <td>2822.736876</td>\n",
       "      <td>12.058814</td>\n",
       "      <td>11.375469</td>\n",
       "    </tr>\n",
       "    <tr>\n",
       "      <th>min</th>\n",
       "      <td>250.000000</td>\n",
       "      <td>4.000000</td>\n",
       "      <td>19.000000</td>\n",
       "    </tr>\n",
       "    <tr>\n",
       "      <th>25%</th>\n",
       "      <td>1365.500000</td>\n",
       "      <td>12.000000</td>\n",
       "      <td>27.000000</td>\n",
       "    </tr>\n",
       "    <tr>\n",
       "      <th>50%</th>\n",
       "      <td>2319.500000</td>\n",
       "      <td>18.000000</td>\n",
       "      <td>33.000000</td>\n",
       "    </tr>\n",
       "    <tr>\n",
       "      <th>75%</th>\n",
       "      <td>3972.250000</td>\n",
       "      <td>24.000000</td>\n",
       "      <td>42.000000</td>\n",
       "    </tr>\n",
       "    <tr>\n",
       "      <th>max</th>\n",
       "      <td>18424.000000</td>\n",
       "      <td>72.000000</td>\n",
       "      <td>75.000000</td>\n",
       "    </tr>\n",
       "  </tbody>\n",
       "</table>\n",
       "</div>"
      ],
      "text/plain": [
       "       credit_amount     duration          age\n",
       "count    1000.000000  1000.000000  1000.000000\n",
       "mean     3271.258000    20.903000    35.546000\n",
       "std      2822.736876    12.058814    11.375469\n",
       "min       250.000000     4.000000    19.000000\n",
       "25%      1365.500000    12.000000    27.000000\n",
       "50%      2319.500000    18.000000    33.000000\n",
       "75%      3972.250000    24.000000    42.000000\n",
       "max     18424.000000    72.000000    75.000000"
      ]
     },
     "execution_count": 16,
     "metadata": {},
     "output_type": "execute_result"
    }
   ],
   "source": [
    "#Adjusting the range of some variables\n",
    "german_df[['credit_amount','duration','age']].describe()\n"
   ]
  },
  {
   "cell_type": "code",
   "execution_count": 18,
   "id": "6a1a677e",
   "metadata": {},
   "outputs": [
    {
     "data": {
      "text/html": [
       "<div>\n",
       "<style scoped>\n",
       "    .dataframe tbody tr th:only-of-type {\n",
       "        vertical-align: middle;\n",
       "    }\n",
       "\n",
       "    .dataframe tbody tr th {\n",
       "        vertical-align: top;\n",
       "    }\n",
       "\n",
       "    .dataframe thead th {\n",
       "        text-align: right;\n",
       "    }\n",
       "</style>\n",
       "<table border=\"1\" class=\"dataframe\">\n",
       "  <thead>\n",
       "    <tr style=\"text-align: right;\">\n",
       "      <th></th>\n",
       "      <th>credit_amount</th>\n",
       "      <th>duration</th>\n",
       "      <th>age</th>\n",
       "    </tr>\n",
       "  </thead>\n",
       "  <tbody>\n",
       "    <tr>\n",
       "      <th>count</th>\n",
       "      <td>1000.000000</td>\n",
       "      <td>1000.000000</td>\n",
       "      <td>1000.000000</td>\n",
       "    </tr>\n",
       "    <tr>\n",
       "      <th>mean</th>\n",
       "      <td>7.788691</td>\n",
       "      <td>20.903000</td>\n",
       "      <td>35.546000</td>\n",
       "    </tr>\n",
       "    <tr>\n",
       "      <th>std</th>\n",
       "      <td>0.776474</td>\n",
       "      <td>12.058814</td>\n",
       "      <td>11.375469</td>\n",
       "    </tr>\n",
       "    <tr>\n",
       "      <th>min</th>\n",
       "      <td>5.521461</td>\n",
       "      <td>4.000000</td>\n",
       "      <td>19.000000</td>\n",
       "    </tr>\n",
       "    <tr>\n",
       "      <th>25%</th>\n",
       "      <td>7.219276</td>\n",
       "      <td>12.000000</td>\n",
       "      <td>27.000000</td>\n",
       "    </tr>\n",
       "    <tr>\n",
       "      <th>50%</th>\n",
       "      <td>7.749107</td>\n",
       "      <td>18.000000</td>\n",
       "      <td>33.000000</td>\n",
       "    </tr>\n",
       "    <tr>\n",
       "      <th>75%</th>\n",
       "      <td>8.287088</td>\n",
       "      <td>24.000000</td>\n",
       "      <td>42.000000</td>\n",
       "    </tr>\n",
       "    <tr>\n",
       "      <th>max</th>\n",
       "      <td>9.821409</td>\n",
       "      <td>72.000000</td>\n",
       "      <td>75.000000</td>\n",
       "    </tr>\n",
       "  </tbody>\n",
       "</table>\n",
       "</div>"
      ],
      "text/plain": [
       "       credit_amount     duration          age\n",
       "count    1000.000000  1000.000000  1000.000000\n",
       "mean        7.788691    20.903000    35.546000\n",
       "std         0.776474    12.058814    11.375469\n",
       "min         5.521461     4.000000    19.000000\n",
       "25%         7.219276    12.000000    27.000000\n",
       "50%         7.749107    18.000000    33.000000\n",
       "75%         8.287088    24.000000    42.000000\n",
       "max         9.821409    72.000000    75.000000"
      ]
     },
     "execution_count": 18,
     "metadata": {},
     "output_type": "execute_result"
    }
   ],
   "source": [
    "import numpy as np\n",
    "german_df['credit_amount']=np.log(german_df['credit_amount'])\n",
    "german_df[['credit_amount','duration','age']].describe()"
   ]
  },
  {
   "cell_type": "markdown",
   "id": "ec9aa191",
   "metadata": {},
   "source": [
    "Understaning the relationship between the credit amount and repayment duration using scatter plot"
   ]
  },
  {
   "cell_type": "code",
   "execution_count": 19,
   "id": "2e547168",
   "metadata": {},
   "outputs": [
    {
     "data": {
      "image/png": "[encoded data removed]",
      "text/plain": [
       "<Figure size 648x360 with 1 Axes>"
      ]
     },
     "metadata": {
      "needs_background": "light"
     },
     "output_type": "display_data"
    }
   ],
   "source": [
    "sns.scatterplot(y=german_df.credit_amount, \n",
    "                x=german_df.duration, \n",
    "                hue=german_df.target, \n",
    "                s=100, \n",
    "                );"
   ]
  },
  {
   "cell_type": "code",
   "execution_count": 20,
   "id": "b4a71987",
   "metadata": {},
   "outputs": [
    {
     "data": {
      "image/png": "[encoded data removed]",
      "text/plain": [
       "<Figure size 1152x576 with 3 Axes>"
      ]
     },
     "metadata": {
      "needs_background": "light"
     },
     "output_type": "display_data"
    }
   ],
   "source": [
    "# plotting histograms\n",
    "\n",
    "fig, axes = plt.subplots(1,3, figsize=(16,8))\n",
    "plt.suptitle('Histogram of continuous variables')\n",
    "axes[0].hist(german_df['duration'])\n",
    "axes[0].set_xlabel('No. of observations')\n",
    "axes[0].set_ylabel('Years')\n",
    "axes[0].set_title('Histogram of loan duration');\n",
    "\n",
    "axes[1].hist(german_df['credit_amount'])\n",
    "axes[1].set_xlabel('No. of observations')\n",
    "axes[1].set_ylabel('Credit amount (dollars)')\n",
    "axes[1].set_title('Histogram of Credit amount');\n",
    "\n",
    "axes[2].hist(german_df['age'])\n",
    "axes[2].set_xlabel('No. of observations')\n",
    "axes[2].set_ylabel('Age')\n",
    "axes[2].set_title('Histogram of Age');"
   ]
  },
  {
   "cell_type": "markdown",
   "id": "dfec8964",
   "metadata": {},
   "source": [
    " 4 . Now we will endocode the catagorical valiables\n",
    "     a:Lbael encoding for the valiables whose values lie in range of 2\n",
    "     b:Hot enocoding for the valriables whose values lie in the range of more than two"
   ]
  },
  {
   "cell_type": "code",
   "execution_count": 21,
   "id": "6988d273",
   "metadata": {},
   "outputs": [
    {
     "data": {
      "text/plain": [
       "account_bal             3\n",
       "payment_status          5\n",
       "purpose                10\n",
       "savings_bond_value      5\n",
       "employed_since          5\n",
       "sex_marital             4\n",
       "guarantor               3\n",
       "most_valuable_asset     4\n",
       "concurrent_credits      3\n",
       "type_of_housing         3\n",
       "job                     3\n",
       "telephon                2\n",
       "foreign                 2\n",
       "dtype: int64"
      ]
     },
     "execution_count": 21,
     "metadata": {},
     "output_type": "execute_result"
    }
   ],
   "source": [
    "# Number of unique classes in each object column\n",
    "german_df.select_dtypes('object').apply(pd.Series.nunique, axis = 0)"
   ]
  },
  {
   "cell_type": "code",
   "execution_count": 22,
   "id": "c5f0d6d7",
   "metadata": {},
   "outputs": [
    {
     "name": "stdout",
     "output_type": "stream",
     "text": [
      "2 columns were label encoded.\n"
     ]
    }
   ],
   "source": [
    "# sklearn preprocessing for dealing with categorical variables\n",
    "from sklearn.preprocessing import LabelEncoder\n",
    "\n",
    "# Create a label encoder object\n",
    "le = LabelEncoder()\n",
    "le_count = 0\n",
    "\n",
    "# Iterate through the columns\n",
    "for col in german_df:\n",
    "    if german_df[col].dtype == 'object':\n",
    "        # If 2 or fewer unique categories\n",
    "        if len(list(german_df[col].unique())) <= 2:\n",
    "            # Train on the training data\n",
    "            le.fit(german_df[col])\n",
    "            # Transform both training and testing data\n",
    "            german_df[col] = le.transform(german_df[col])\n",
    "            \n",
    "            # Keep track of how many columns were label encoded\n",
    "            le_count += 1\n",
    "            \n",
    "print('%d columns were label encoded.' % le_count)"
   ]
  },
  {
   "cell_type": "code",
   "execution_count": 23,
   "id": "246f2cc9",
   "metadata": {},
   "outputs": [
    {
     "name": "stdout",
     "output_type": "stream",
     "text": [
      "Encoded Features shape:  (1000, 58)\n"
     ]
    }
   ],
   "source": [
    "#one-hot encoding of categorical variables\n",
    "german_df = pd.get_dummies(german_df)\n",
    "\n",
    "print('Encoded Features shape: ', german_df.shape)"
   ]
  },
  {
   "cell_type": "markdown",
   "id": "c55010da",
   "metadata": {},
   "source": [
    "Finding the correlation between the variables"
   ]
  },
  {
   "cell_type": "code",
   "execution_count": 24,
   "id": "e69e289c",
   "metadata": {},
   "outputs": [
    {
     "name": "stdout",
     "output_type": "stream",
     "text": [
      "Most Positive Correlations:\n",
      " sex_marital_A92                    0.075493\n",
      "type_of_housing_A153               0.081556\n",
      "account_bal_positive_bal           0.089895\n",
      "type_of_housing_A151               0.092785\n",
      "concurrent_credits_A141            0.096510\n",
      "purpose_A40                        0.096900\n",
      "employed_since_A72                 0.106397\n",
      "credit_amount                      0.109570\n",
      "most_valuable_asset_real_estate    0.125750\n",
      "payment_status_A31                 0.134448\n",
      "payment_status_A30                 0.144767\n",
      "savings_bond_value_A61             0.161007\n",
      "duration                           0.214927\n",
      "account_bal_neg_bal                0.258333\n",
      "target                             1.000000\n",
      "Name: target, dtype: float64\n",
      "\n",
      "Most Negative Correlations:\n",
      " account_bal_no_acc         -0.322436\n",
      "payment_status_A34         -0.181713\n",
      "type_of_housing_A152       -0.134589\n",
      "savings_bond_value_A65     -0.129238\n",
      "most_valuable_asset_none   -0.119300\n",
      "concurrent_credits_A143    -0.113285\n",
      "purpose_A43                -0.106922\n",
      "purpose_A41                -0.099791\n",
      "age                        -0.091127\n",
      "savings_bond_value_A64     -0.085749\n",
      "foreign                    -0.082079\n",
      "sex_marital_A93            -0.080677\n",
      "employed_since_A74         -0.075980\n",
      "savings_bond_value_A63     -0.070954\n",
      "employed_since_A75         -0.059733\n",
      "Name: target, dtype: float64\n"
     ]
    }
   ],
   "source": [
    "# Find correlations with the target and sort\n",
    "correlations = german_df.corr()['target'].sort_values()\n",
    "\n",
    "# Display correlations\n",
    "print('Most Positive Correlations:\\n', correlations.tail(15))\n",
    "print('\\nMost Negative Correlations:\\n', correlations.head(15))"
   ]
  },
  {
   "cell_type": "code",
   "execution_count": 26,
   "id": "200ffcc0",
   "metadata": {},
   "outputs": [
    {
     "data": {
      "image/png": "[encoded data removed]",
      "text/plain": [
       "<Figure size 648x360 with 2 Axes>"
      ]
     },
     "metadata": {
      "needs_background": "light"
     },
     "output_type": "display_data"
    }
   ],
   "source": [
    "#Extract the significantly correlated variables\n",
    "corr_data = german_df[['target', 'account_bal_neg_bal','duration','account_bal_no_acc']]\n",
    "corr_data_corrs = corr_data.corr()\n",
    "\n",
    "\n",
    "# Heatmap of correlations\n",
    "sns.heatmap(corr_data_corrs, cmap = plt.cm.RdYlBu_r, vmin = -0.25, annot = True, vmax = 0.6)\n",
    "plt.title('Correlation Heatmap');"
   ]
  },
  {
   "cell_type": "markdown",
   "id": "a77978f1",
   "metadata": {},
   "source": [
    "Data split to train and test datasets"
   ]
  },
  {
   "cell_type": "code",
   "execution_count": 28,
   "id": "d9e3e30a",
   "metadata": {},
   "outputs": [
    {
     "data": {
      "text/plain": [
       "((1000, 57), (1000,))"
      ]
     },
     "execution_count": 28,
     "metadata": {},
     "output_type": "execute_result"
    }
   ],
   "source": [
    "from sklearn.model_selection import train_test_split\n",
    "x, y = german_df.drop('target', axis=1), german_df['target']\n",
    "x.shape, y.shape\n"
   ]
  },
  {
   "cell_type": "code",
   "execution_count": 29,
   "id": "6827a9ca",
   "metadata": {},
   "outputs": [],
   "source": [
    "x_train, x_test, y_train, y_test= train_test_split(x,y, test_size=.2, random_state=42)\n"
   ]
  },
  {
   "cell_type": "code",
   "execution_count": 30,
   "id": "631ca400",
   "metadata": {},
   "outputs": [
    {
     "data": {
      "text/plain": [
       "((800, 57), (200, 57))"
      ]
     },
     "execution_count": 30,
     "metadata": {},
     "output_type": "execute_result"
    }
   ],
   "source": [
    "x_train.shape, x_test.shape"
   ]
  },
  {
   "cell_type": "code",
   "execution_count": 32,
   "id": "b39ce12e",
   "metadata": {},
   "outputs": [],
   "source": [
    "# Let's normalize the features to prevent undue influence in the model.\n",
    "\n",
    "from sklearn.preprocessing import MinMaxScaler\n",
    "\n",
    "# scale each feature to 0-1\n",
    "scaler = MinMaxScaler(feature_range = (0, 1))\n",
    "\n",
    "# fit on features dataset\n",
    "scaler.fit(x_train)\n",
    "scaler.fit(x_test)\n",
    "x_train= scaler.transform(x_train)\n",
    "x_test= scaler.transform(x_test)"
   ]
  },
  {
   "cell_type": "markdown",
   "id": "090557a8",
   "metadata": {},
   "source": [
    "Training the models "
   ]
  },
  {
   "cell_type": "markdown",
   "id": "7aa96f6d",
   "metadata": {},
   "source": [
    "1. using Decision tree "
   ]
  },
  {
   "cell_type": "code",
   "execution_count": 33,
   "id": "62017158",
   "metadata": {},
   "outputs": [],
   "source": [
    "from sklearn.tree import DecisionTreeClassifier"
   ]
  },
  {
   "cell_type": "code",
   "execution_count": 34,
   "id": "3f09d448",
   "metadata": {},
   "outputs": [
    {
     "data": {
      "text/plain": [
       "((200,), (200,))"
      ]
     },
     "execution_count": 34,
     "metadata": {},
     "output_type": "execute_result"
    }
   ],
   "source": [
    "# initialize a tree\n",
    "tree= DecisionTreeClassifier(random_state=42)\n",
    "# fit model\n",
    "tree.fit(x_train, y_train)\n",
    "# predict\n",
    "pred_test= tree.predict(x_test)\n",
    "pred_test.shape, y_test.shape"
   ]
  },
  {
   "cell_type": "markdown",
   "id": "17c3934e",
   "metadata": {},
   "source": [
    "lets check accuracy of the predicted data\n"
   ]
  },
  {
   "cell_type": "code",
   "execution_count": 35,
   "id": "20b10224",
   "metadata": {},
   "outputs": [],
   "source": [
    "from sklearn.metrics import accuracy_score, confusion_matrix"
   ]
  },
  {
   "cell_type": "code",
   "execution_count": 36,
   "id": "d1e4e183",
   "metadata": {},
   "outputs": [
    {
     "data": {
      "text/plain": [
       "0.71"
      ]
     },
     "execution_count": 36,
     "metadata": {},
     "output_type": "execute_result"
    }
   ],
   "source": [
    "accuracy_score(y_test, pred_test)"
   ]
  },
  {
   "cell_type": "code",
   "execution_count": 46,
   "id": "c04cf0f2",
   "metadata": {},
   "outputs": [
    {
     "name": "stdout",
     "output_type": "stream",
     "text": [
      "[[113  28]\n",
      " [ 30  29]]\n"
     ]
    }
   ],
   "source": [
    "from sklearn import metrics\n",
    "print(metrics.confusion_matrix(y_test,pred_test))"
   ]
  },
  {
   "cell_type": "code",
   "execution_count": 44,
   "id": "c96bf53a",
   "metadata": {},
   "outputs": [
    {
     "data": {
      "text/plain": [
       "0.7100000000000001"
      ]
     },
     "execution_count": 44,
     "metadata": {},
     "output_type": "execute_result"
    }
   ],
   "source": [
    "from sklearn.metrics import f1_score\n",
    "f1_score(y_test, pred_test, average='micro')"
   ]
  },
  {
   "cell_type": "markdown",
   "id": "c6781bbb",
   "metadata": {},
   "source": [
    "2.Using logistics Regression model\n"
   ]
  },
  {
   "cell_type": "code",
   "execution_count": 52,
   "id": "fd5aa670",
   "metadata": {},
   "outputs": [],
   "source": [
    "from sklearn.linear_model import LogisticRegression\n",
    "from sklearn.metrics import roc_auc_score, recall_score, classification_report\n",
    "tuned_models_test=[]\n",
    "tuned_models_train=[]\n",
    "\n",
    "# Create the model with the specified regularization parameter\n",
    "log_reg = LogisticRegression(C = 0.0001, random_state=42)\n",
    "\n",
    "# Train on the training data\n",
    "log_reg.fit(x_train, y_train)\n",
    "\n",
    "# Evaluate on test dataset\n",
    "pred_test= log_reg.predict(x_test)\n"
   ]
  },
  {
   "cell_type": "code",
   "execution_count": 53,
   "id": "6ccca464",
   "metadata": {},
   "outputs": [
    {
     "data": {
      "text/plain": [
       "0.705"
      ]
     },
     "execution_count": 53,
     "metadata": {},
     "output_type": "execute_result"
    }
   ],
   "source": [
    "accuracy_score(y_test, pred_test)"
   ]
  },
  {
   "cell_type": "code",
   "execution_count": 54,
   "id": "b691d838",
   "metadata": {},
   "outputs": [
    {
     "name": "stdout",
     "output_type": "stream",
     "text": [
      "[[141   0]\n",
      " [ 59   0]]\n"
     ]
    }
   ],
   "source": [
    "print(metrics.confusion_matrix(y_test,pred_test))\n"
   ]
  },
  {
   "cell_type": "code",
   "execution_count": 55,
   "id": "e6c13cd9",
   "metadata": {},
   "outputs": [
    {
     "data": {
      "text/plain": [
       "0.705"
      ]
     },
     "execution_count": 55,
     "metadata": {},
     "output_type": "execute_result"
    }
   ],
   "source": [
    "f1_score(y_test, pred_test, average='micro')"
   ]
  },
  {
   "cell_type": "markdown",
   "id": "2cd28449",
   "metadata": {},
   "source": [
    "using knn model"
   ]
  },
  {
   "cell_type": "code",
   "execution_count": 96,
   "id": "521fb178",
   "metadata": {},
   "outputs": [],
   "source": [
    "from sklearn.neighbors import KNeighborsClassifier\n",
    "#Training the knn model\n",
    "knn= KNeighborsClassifier(n_neighbors = 6)\n",
    "# Train on the training data\n",
    "knn.fit(x_train, y_train)\n",
    "# Evaluate on test dataset\n",
    "pred_test= knn.predict(x_test)\n"
   ]
  },
  {
   "cell_type": "code",
   "execution_count": 97,
   "id": "ff8ae589",
   "metadata": {},
   "outputs": [
    {
     "data": {
      "text/plain": [
       "0.74"
      ]
     },
     "execution_count": 97,
     "metadata": {},
     "output_type": "execute_result"
    }
   ],
   "source": [
    "accuracy_score(y_test, pred_test)"
   ]
  },
  {
   "cell_type": "code",
   "execution_count": 98,
   "id": "c61827cc",
   "metadata": {},
   "outputs": [
    {
     "name": "stdout",
     "output_type": "stream",
     "text": [
      "[[137   4]\n",
      " [ 48  11]]\n"
     ]
    }
   ],
   "source": [
    "print(metrics.confusion_matrix(y_test,pred_test))\n"
   ]
  },
  {
   "cell_type": "code",
   "execution_count": 100,
   "id": "1530b840",
   "metadata": {},
   "outputs": [
    {
     "data": {
      "text/plain": [
       "84.04907975460122"
      ]
     },
     "execution_count": 100,
     "metadata": {},
     "output_type": "execute_result"
    }
   ],
   "source": [
    "f1_score(y_test, pred_test)*100"
   ]
  },
  {
   "cell_type": "markdown",
   "id": "2de7d978",
   "metadata": {},
   "source": [
    "using support vector classifier"
   ]
  },
  {
   "cell_type": "code",
   "execution_count": 115,
   "id": "7530fff1",
   "metadata": {},
   "outputs": [],
   "source": [
    "from sklearn.svm import SVC\n",
    "svc= SVC(kernel='linear',C=0.8, gamma=10,random_state=42,probability = True).fit(x_train, y_train)\n",
    "# Evaluate on test dataset\n",
    "pred_test= svc.predict(x_test)\n"
   ]
  },
  {
   "cell_type": "code",
   "execution_count": 116,
   "id": "bc6596b2",
   "metadata": {},
   "outputs": [
    {
     "data": {
      "text/plain": [
       "0.775"
      ]
     },
     "execution_count": 116,
     "metadata": {},
     "output_type": "execute_result"
    }
   ],
   "source": [
    "accuracy_score(y_test, pred_test)"
   ]
  },
  {
   "cell_type": "code",
   "execution_count": 117,
   "id": "2c73e0db",
   "metadata": {},
   "outputs": [
    {
     "name": "stdout",
     "output_type": "stream",
     "text": [
      "[[126  15]\n",
      " [ 30  29]]\n"
     ]
    }
   ],
   "source": [
    "print(metrics.confusion_matrix(y_test,pred_test))"
   ]
  },
  {
   "cell_type": "code",
   "execution_count": 118,
   "id": "a790cc3a",
   "metadata": {},
   "outputs": [
    {
     "data": {
      "text/plain": [
       "84.84848484848484"
      ]
     },
     "execution_count": 118,
     "metadata": {},
     "output_type": "execute_result"
    }
   ],
   "source": [
    "f1_score(y_test, pred_test)*100"
   ]
  },
  {
   "cell_type": "markdown",
   "id": "0ca54ef6",
   "metadata": {},
   "source": [
    "deriving the curve\n"
   ]
  },
  {
   "cell_type": "code",
   "execution_count": 131,
   "id": "68e58646",
   "metadata": {},
   "outputs": [],
   "source": [
    "#prediction probabilities\n",
    "r_probs=[0 for _ in range(len(y_test)) ]\n",
    "rf_probs = svc.predict_proba(x_test)\n"
   ]
  },
  {
   "cell_type": "code",
   "execution_count": 132,
   "id": "32e21d14",
   "metadata": {},
   "outputs": [],
   "source": [
    "rf_probs = rf_probs[:,1]"
   ]
  },
  {
   "cell_type": "code",
   "execution_count": 127,
   "id": "4fc0485c",
   "metadata": {},
   "outputs": [],
   "source": [
    "from sklearn.metrics import roc_curve,roc_auc_score\n"
   ]
  },
  {
   "cell_type": "code",
   "execution_count": 134,
   "id": "b699fa0a",
   "metadata": {},
   "outputs": [
    {
     "name": "stdout",
     "output_type": "stream",
     "text": [
      "0.8041831950955644\n"
     ]
    }
   ],
   "source": [
    "r_auc = roc_auc_score(y_test, r_probs)\n",
    "rf_auc = roc_auc_score(y_test, rf_probs)\n",
    "print(rf_auc)\n"
   ]
  },
  {
   "cell_type": "code",
   "execution_count": 152,
   "id": "bbfff7e8",
   "metadata": {},
   "outputs": [],
   "source": [
    "r_fpr,r_tpr, _ = roc_curve(y_test,r_probs,pos_label = 2)\n",
    "rf_fpr,rf_tpr, _ = roc_curve(y_test,rf_probs, pos_label = 2)"
   ]
  },
  {
   "cell_type": "code",
   "execution_count": 153,
   "id": "29f7df90",
   "metadata": {},
   "outputs": [
    {
     "data": {
      "image/png": "[encoded data removed]",
      "text/plain": [
       "<Figure size 576x396 with 1 Axes>"
      ]
     },
     "metadata": {},
     "output_type": "display_data"
    }
   ],
   "source": [
    "# matplotlib\n",
    "import matplotlib.pyplot as plt\n",
    "plt.style.use('seaborn')\n",
    "\n",
    "# plot roc curves\n",
    "plt.plot(rf_fpr, rf_tpr, linestyle='--',color='orange', label='svm')\n",
    "\n",
    "plt.plot(r_fpr, r_tpr, linestyle='--', color='blue')\n",
    "# title\n",
    "plt.title('ROC curve')\n",
    "# x label\n",
    "plt.xlabel('False Positive Rate')\n",
    "# y label\n",
    "plt.ylabel('True Positive rate')\n",
    "\n",
    "plt.legend(loc='best')\n",
    "plt.savefig('ROC',dpi=300)\n",
    "plt.show();"
   ]
  },
  {
   "cell_type": "code",
   "execution_count": null,
   "id": "09b62cd7",
   "metadata": {},
   "outputs": [],
   "source": []
  }
 ],
 "metadata": {
  "kernelspec": {
   "display_name": "Python 3",
   "language": "python",
   "name": "python3"
  },
  "language_info": {
   "codemirror_mode": {
    "name": "ipython",
    "version": 3
   },
   "file_extension": ".py",
   "mimetype": "text/x-python",
   "name": "python",
   "nbconvert_exporter": "python",
   "pygments_lexer": "ipython3",
   "version": "3.8.8"
  }
 },
 "nbformat": 4,
 "nbformat_minor": 5
}
